{
  "nbformat": 4,
  "nbformat_minor": 0,
  "metadata": {
    "colab": {
      "name": "statQuest_decisionTree",
      "provenance": [],
      "authorship_tag": "ABX9TyMHmqU5s1Ala+X1YrgQEnEY",
      "include_colab_link": true
    },
    "kernelspec": {
      "name": "python3",
      "display_name": "Python 3"
    }
  },
  "cells": [
    {
      "cell_type": "markdown",
      "metadata": {
        "id": "view-in-github",
        "colab_type": "text"
      },
      "source": [
        "<a href=\"https://colab.research.google.com/github/JunHeeJang913/Google_colab/blob/main/statQuest_decisionTree.ipynb\" target=\"_parent\"><img src=\"https://colab.research.google.com/assets/colab-badge.svg\" alt=\"Open In Colab\"/></a>"
      ]
    },
    {
      "cell_type": "code",
      "metadata": {
        "id": "D2PBbBsRDw0a"
      },
      "source": [
        "import pandas as pd    #to load and manipulate data and for One - hot encoding\r\n",
        "import numpy as np   # to calculate the mean and std dev\r\n",
        "import matplotlib.pyplot as plt # to draw graph\r\n",
        "from sklearn.tree import DecisionTreeClassifier # to build a classification tree\r\n",
        "from sklearn.tree import plot_tree # to draw tree\r\n",
        "from sklearn.model_selection import train_test_split\r\n",
        "from sklearn.model_selection import cross_val_score\r\n",
        "from sklearn.metrics import confusion_matrix\r\n",
        "from sklearn.metrics import plot_confusion_matrix"
      ],
      "execution_count": null,
      "outputs": []
    },
    {
      "cell_type": "code",
      "metadata": {
        "id": "qYCdgOUnD3TI"
      },
      "source": [
        ""
      ],
      "execution_count": null,
      "outputs": []
    }
  ]
}